{
 "cells": [
  {
   "cell_type": "code",
   "execution_count": 1,
   "metadata": {},
   "outputs": [
    {
     "name": "stdout",
     "output_type": "stream",
     "text": [
      "No GPU device found\n"
     ]
    }
   ],
   "source": [
    "import tensorflow as tf\n",
    "if tf.test.gpu_device_name():\n",
    "    print('Default GPU device:{}'.format(tf.test_gpu_device_name))\n",
    "else:\n",
    "    print('No GPU device found')"
   ]
  },
  {
   "cell_type": "code",
   "execution_count": 2,
   "metadata": {},
   "outputs": [
    {
     "name": "stdout",
     "output_type": "stream",
     "text": [
      "Tensorflow version is:2.5.0\n"
     ]
    }
   ],
   "source": [
    "print(\"Tensorflow version is:{}\".format(tf.__version__))"
   ]
  },
  {
   "cell_type": "code",
   "execution_count": 3,
   "metadata": {},
   "outputs": [],
   "source": [
    "from glob import glob\n",
    "from tensorflow.keras.models import Model,Sequential\n",
    "from tensorflow.keras.layers import Dense,Flatten,Input\n",
    "from tensorflow.keras.preprocessing import image\n",
    "from tensorflow.keras.preprocessing.image import ImageDataGenerator,load_img\n",
    "from tensorflow.keras.applications.resnet50 import ResNet50\n",
    "from tensorflow.keras.applications.resnet50 import preprocess_input\n",
    "\n",
    "    "
   ]
  },
  {
   "cell_type": "code",
   "execution_count": 4,
   "metadata": {},
   "outputs": [],
   "source": [
    "#resizing the images\n",
    "IMAGE_SIZE=[244,244]\n",
    "train_path='H:/Datasets/kagglecatsanddogs_3367a/train'\n",
    "test_path='H:/Datasets/kagglecatsanddogs_3367a/test'"
   ]
  },
  {
   "cell_type": "code",
   "execution_count": 5,
   "metadata": {},
   "outputs": [],
   "source": [
    "resnet=ResNet50(input_shape=IMAGE_SIZE+[3],weights='imagenet',include_top=False)\n"
   ]
  },
  {
   "cell_type": "code",
   "execution_count": 6,
   "metadata": {},
   "outputs": [],
   "source": [
    "#take care of layers\n",
    "for layer in resnet.layers:\n",
    "    layer.trainable=False"
   ]
  },
  {
   "cell_type": "code",
   "execution_count": null,
   "metadata": {},
   "outputs": [],
   "source": []
  },
  {
   "cell_type": "code",
   "execution_count": 7,
   "metadata": {},
   "outputs": [],
   "source": [
    "#useful for getting total encomprised folders inside i.e output classes here\n",
    "Folders=glob('H:/Datasets/kagglecatsanddogs_3367a/train/*')"
   ]
  },
  {
   "cell_type": "code",
   "execution_count": 8,
   "metadata": {},
   "outputs": [],
   "source": [
    "\n",
    "model = Sequential()\n",
    "\n",
    "# 1st layer as the lumpsum weights from resnet50_weights_tf_dim_ordering_tf_kernels_notop.h5\n",
    "# NOTE that this layer will be set below as NOT TRAINABLE, i.e., use it as is\n",
    "model.add(ResNet50(include_top = False, pooling = 'avg', weights = 'imagenet'))\n",
    "\n",
    "# 2nd layer as Dense for 2-class classification, i.e., dog or cat using SoftMax activation\n",
    "model.add(Dense(len(Folders), activation = 'softmax'))\n",
    "\n",
    "# Say not to train first layer (ResNet) model as it is already trained\n",
    "model.layers[0].trainable = False"
   ]
  },
  {
   "cell_type": "code",
   "execution_count": 9,
   "metadata": {},
   "outputs": [],
   "source": [
    "### prediction = Dense(len(Folders), activation='softmax')(resnet.output)\n",
    "\n",
    "# create a model object\n",
    "#model = Model(inputs=resnet.input, outputs=prediction)"
   ]
  },
  {
   "cell_type": "code",
   "execution_count": 10,
   "metadata": {},
   "outputs": [
    {
     "name": "stdout",
     "output_type": "stream",
     "text": [
      "Model: \"sequential\"\n",
      "_________________________________________________________________\n",
      "Layer (type)                 Output Shape              Param #   \n",
      "=================================================================\n",
      "resnet50 (Functional)        (None, 2048)              23587712  \n",
      "_________________________________________________________________\n",
      "dense (Dense)                (None, 2)                 4098      \n",
      "=================================================================\n",
      "Total params: 23,591,810\n",
      "Trainable params: 4,098\n",
      "Non-trainable params: 23,587,712\n",
      "_________________________________________________________________\n"
     ]
    }
   ],
   "source": [
    "model.summary()"
   ]
  },
  {
   "cell_type": "code",
   "execution_count": 11,
   "metadata": {},
   "outputs": [],
   "source": [
    "# tell the model what cost and optimization method to use\n",
    "model.compile(\n",
    "  loss='categorical_crossentropy',\n",
    "  optimizer='adam',\n",
    "  metrics=['accuracy']\n",
    ")"
   ]
  },
  {
   "cell_type": "code",
   "execution_count": 12,
   "metadata": {},
   "outputs": [],
   "source": [
    "# Use the Image Data Generator to import the images from the dataset\n",
    "from tensorflow.keras.preprocessing.image import ImageDataGenerator\n",
    "\n",
    "train_datagen = ImageDataGenerator(rescale = 1./255,\n",
    "                                   shear_range = 0.2,\n",
    "                                   zoom_range = 0.2,\n",
    "                                   horizontal_flip = True)\n",
    "\n",
    "test_datagen = ImageDataGenerator(rescale = 1./255)"
   ]
  },
  {
   "cell_type": "code",
   "execution_count": 13,
   "metadata": {},
   "outputs": [
    {
     "name": "stdout",
     "output_type": "stream",
     "text": [
      "Found 2448 images belonging to 2 classes.\n"
     ]
    }
   ],
   "source": [
    "# Make sure you provide the same target size as initialied for the image size\n",
    "training_set = train_datagen.flow_from_directory('H:/Datasets/kagglecatsanddogs_3367a/train',\n",
    "                                                 target_size = (224, 224),\n",
    "                                                 batch_size = 34,\n",
    "                                                 class_mode = 'categorical')"
   ]
  },
  {
   "cell_type": "code",
   "execution_count": 14,
   "metadata": {},
   "outputs": [
    {
     "name": "stdout",
     "output_type": "stream",
     "text": [
      "Found 442 images belonging to 2 classes.\n"
     ]
    }
   ],
   "source": [
    "test_set = test_datagen.flow_from_directory('H:/Datasets/kagglecatsanddogs_3367a/test',\n",
    "                                            target_size = (224, 224),\n",
    "                                            batch_size = 34,\n",
    "                                            class_mode = 'categorical')"
   ]
  },
  {
   "cell_type": "code",
   "execution_count": 21,
   "metadata": {},
   "outputs": [
    {
     "name": "stderr",
     "output_type": "stream",
     "text": [
      "C:\\Users\\VISERION\\AppData\\Roaming\\Python\\Python36\\site-packages\\tensorflow\\python\\keras\\engine\\training.py:1940: UserWarning: `Model.fit_generator` is deprecated and will be removed in a future version. Please use `Model.fit`, which supports generators.\n",
      "  warnings.warn('`Model.fit_generator` is deprecated and '\n"
     ]
    },
    {
     "name": "stdout",
     "output_type": "stream",
     "text": [
      "Epoch 1/20\n",
      "72/72 [==============================] - 212s 3s/step - loss: 0.6437 - accuracy: 0.6279 - val_loss: 0.6421 - val_accuracy: 0.6290\n",
      "Epoch 2/20\n",
      "72/72 [==============================] - 219s 3s/step - loss: 0.6450 - accuracy: 0.6099 - val_loss: 0.6336 - val_accuracy: 0.6403\n",
      "Epoch 3/20\n",
      "72/72 [==============================] - 231s 3s/step - loss: 0.6421 - accuracy: 0.6189 - val_loss: 0.6476 - val_accuracy: 0.6131\n",
      "Epoch 4/20\n",
      "72/72 [==============================] - 232s 3s/step - loss: 0.6386 - accuracy: 0.6205 - val_loss: 0.6340 - val_accuracy: 0.6516\n",
      "Epoch 5/20\n",
      "72/72 [==============================] - 252s 3s/step - loss: 0.6401 - accuracy: 0.6295 - val_loss: 0.6291 - val_accuracy: 0.6516\n",
      "Epoch 6/20\n",
      "72/72 [==============================] - 241s 3s/step - loss: 0.6342 - accuracy: 0.6393 - val_loss: 0.6434 - val_accuracy: 0.6222\n",
      "Epoch 7/20\n",
      "72/72 [==============================] - 255s 4s/step - loss: 0.6321 - accuracy: 0.6430 - val_loss: 0.6274 - val_accuracy: 0.6606\n",
      "Epoch 8/20\n",
      "72/72 [==============================] - 296s 4s/step - loss: 0.6366 - accuracy: 0.6364 - val_loss: 0.6283 - val_accuracy: 0.6561\n",
      "Epoch 9/20\n",
      "72/72 [==============================] - 274s 4s/step - loss: 0.6310 - accuracy: 0.6385 - val_loss: 0.6256 - val_accuracy: 0.6606\n",
      "Epoch 10/20\n",
      "72/72 [==============================] - 228s 3s/step - loss: 0.6385 - accuracy: 0.6377 - val_loss: 0.6251 - val_accuracy: 0.6538\n",
      "Epoch 11/20\n",
      "72/72 [==============================] - 232s 3s/step - loss: 0.6295 - accuracy: 0.6454 - val_loss: 0.6294 - val_accuracy: 0.6380\n",
      "Epoch 12/20\n",
      "72/72 [==============================] - 259s 4s/step - loss: 0.6308 - accuracy: 0.6364 - val_loss: 0.6264 - val_accuracy: 0.6629\n",
      "Epoch 13/20\n",
      "72/72 [==============================] - 220s 3s/step - loss: 0.6404 - accuracy: 0.6311 - val_loss: 0.6250 - val_accuracy: 0.6584\n",
      "Epoch 14/20\n",
      "72/72 [==============================] - 211s 3s/step - loss: 0.6350 - accuracy: 0.6319 - val_loss: 0.6605 - val_accuracy: 0.5679\n",
      "Epoch 15/20\n",
      "72/72 [==============================] - 208s 3s/step - loss: 0.6284 - accuracy: 0.6458 - val_loss: 0.6250 - val_accuracy: 0.6538\n",
      "Epoch 16/20\n",
      "72/72 [==============================] - 214s 3s/step - loss: 0.6289 - accuracy: 0.6438 - val_loss: 0.6244 - val_accuracy: 0.6652\n",
      "Epoch 17/20\n",
      "72/72 [==============================] - 251s 3s/step - loss: 0.6303 - accuracy: 0.6381 - val_loss: 0.6320 - val_accuracy: 0.6335\n",
      "Epoch 18/20\n",
      "72/72 [==============================] - 229s 3s/step - loss: 0.6316 - accuracy: 0.6319 - val_loss: 0.6553 - val_accuracy: 0.5882\n",
      "Epoch 19/20\n",
      "72/72 [==============================] - 219s 3s/step - loss: 0.6272 - accuracy: 0.6495 - val_loss: 0.6198 - val_accuracy: 0.6538\n",
      "Epoch 20/20\n",
      "72/72 [==============================] - 219s 3s/step - loss: 0.6260 - accuracy: 0.6467 - val_loss: 0.6232 - val_accuracy: 0.6403\n"
     ]
    }
   ],
   "source": [
    "r = model.fit_generator(\n",
    "  training_set,\n",
    "  validation_data=test_set,\n",
    "  epochs=20,\n",
    "  steps_per_epoch=len(training_set),\n",
    "  validation_steps=len(test_set)\n",
    ")"
   ]
  },
  {
   "cell_type": "code",
   "execution_count": 22,
   "metadata": {},
   "outputs": [
    {
     "data": {
      "image/png": "[encoded data removed]",
      "text/plain": [
       "<Figure size 432x288 with 1 Axes>"
      ]
     },
     "metadata": {
      "needs_background": "light"
     },
     "output_type": "display_data"
    },
    {
     "data": {
      "image/png": "[encoded data removed]",
      "text/plain": [
       "<Figure size 432x288 with 1 Axes>"
      ]
     },
     "metadata": {
      "needs_background": "light"
     },
     "output_type": "display_data"
    },
    {
     "data": {
      "text/plain": [
       "<Figure size 432x288 with 0 Axes>"
      ]
     },
     "metadata": {},
     "output_type": "display_data"
    }
   ],
   "source": [
    "import matplotlib.pyplot as plt\n",
    "plt.plot(r.history['loss'], label='train loss')\n",
    "plt.plot(r.history['val_loss'], label='val loss')\n",
    "plt.legend()\n",
    "plt.show()\n",
    "plt.savefig('LossVal_loss')\n",
    "\n",
    "# plot the accuracy\n",
    "plt.plot(r.history['accuracy'], label='train acc')\n",
    "plt.plot(r.history['val_accuracy'], label='val acc')\n",
    "plt.legend()\n",
    "plt.show()\n",
    "plt.savefig('AccVal_acc')  "
   ]
  },
  {
   "cell_type": "code",
   "execution_count": null,
   "metadata": {},
   "outputs": [],
   "source": []
  }
 ],
 "metadata": {
  "kernelspec": {
   "display_name": "Python 3 (ipykernel)",
   "language": "python",
   "name": "python3"
  },
  "language_info": {
   "codemirror_mode": {
    "name": "ipython",
    "version": 3
   },
   "file_extension": ".py",
   "mimetype": "text/x-python",
   "name": "python",
   "nbconvert_exporter": "python",
   "pygments_lexer": "ipython3",
   "version": "3.7.11"
  }
 },
 "nbformat": 4,
 "nbformat_minor": 4
}
