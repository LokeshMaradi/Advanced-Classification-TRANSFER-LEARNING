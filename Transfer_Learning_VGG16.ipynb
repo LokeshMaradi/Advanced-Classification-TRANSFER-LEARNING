{
 "cells": [
  {
   "cell_type": "markdown",
   "metadata": {
    "id": "be5QG1jU5AdG"
   },
   "source": [
    "### Advanced classification-Transfer Learning VGG 16 using Keras"
   ]
  },
  {
   "cell_type": "code",
   "execution_count": 3,
   "metadata": {
    "colab": {
     "base_uri": "https://localhost:8080/"
    },
    "id": "9A8DEvZs5Adm",
    "outputId": "79669b6f-32b3-4c38-b154-330542a9af24"
   },
   "outputs": [],
   "source": [
    "import tensorflow as tf "
   ]
  },
  {
   "cell_type": "code",
   "execution_count": 4,
   "metadata": {
    "id": "ALUD2gSB5Adz"
   },
   "outputs": [],
   "source": [
    "from tensorflow.keras.layers import Input, Lambda, Dense, Flatten\n",
    "from tensorflow.keras.models import Model\n",
    "from tensorflow.keras.applications.vgg16 import VGG16\n",
    "from tensorflow.keras.applications.vgg16 import preprocess_input\n",
    "from tensorflow.keras.preprocessing import image\n",
    "from tensorflow.keras.preprocessing.image import ImageDataGenerator,load_img\n",
    "from tensorflow.keras.models import Sequential\n",
    "import numpy as np\n",
    "from glob import glob"
   ]
  },
  {
   "cell_type": "code",
   "execution_count": 15,
   "metadata": {
    "id": "mwXHl0ts5Ad3"
   },
   "outputs": [],
   "source": [
    "IMAGE_SIZE = [224, 224]\n",
    "train_path = 'H:/Datasets/CNN BASED/kagglecatsanddogs_3367a/train'\n",
    "valid_path = 'H:/Datasets/CNN BASED/kagglecatsanddogs_3367a/test'"
   ]
  },
  {
   "cell_type": "code",
   "execution_count": 16,
   "metadata": {
    "id": "Yx2sPGEx5Ad5"
   },
   "outputs": [],
   "source": [
    "vgg16 = VGG16(input_shape=IMAGE_SIZE + [3], weights='imagenet', include_top=False)"
   ]
  },
  {
   "cell_type": "code",
   "execution_count": 17,
   "metadata": {
    "id": "rhlGQkFo5Ad8"
   },
   "outputs": [],
   "source": [
    "for layer in vgg16.layers:\n",
    "    layer.trainable = False"
   ]
  },
  {
   "cell_type": "code",
   "execution_count": 18,
   "metadata": {
    "id": "89US8q0Q5AeA"
   },
   "outputs": [],
   "source": [
    "folders = glob('H:/Datasets/CNN BASED/kagglecatsanddogs_3367a/train/*')"
   ]
  },
  {
   "cell_type": "code",
   "execution_count": 19,
   "metadata": {
    "id": "pTZBUL6G5AeD"
   },
   "outputs": [],
   "source": [
    "x = Flatten()(vgg16.output)"
   ]
  },
  {
   "cell_type": "code",
   "execution_count": 20,
   "metadata": {
    "id": "6qSCIuUP5AeF"
   },
   "outputs": [],
   "source": [
    "prediction = Dense(len(folders), activation='softmax')(x)\n",
    "model = Model(inputs=vgg16.input, outputs=prediction)"
   ]
  },
  {
   "cell_type": "code",
   "execution_count": 21,
   "metadata": {
    "id": "Ey8cm-PO5AeH",
    "outputId": "e360231c-6e12-43cd-d902-be5b7eb4b241"
   },
   "outputs": [
    {
     "name": "stdout",
     "output_type": "stream",
     "text": [
      "Model: \"model_1\"\n",
      "_________________________________________________________________\n",
      "Layer (type)                 Output Shape              Param #   \n",
      "=================================================================\n",
      "input_2 (InputLayer)         [(None, 224, 224, 3)]     0         \n",
      "_________________________________________________________________\n",
      "block1_conv1 (Conv2D)        (None, 224, 224, 64)      1792      \n",
      "_________________________________________________________________\n",
      "block1_conv2 (Conv2D)        (None, 224, 224, 64)      36928     \n",
      "_________________________________________________________________\n",
      "block1_pool (MaxPooling2D)   (None, 112, 112, 64)      0         \n",
      "_________________________________________________________________\n",
      "block2_conv1 (Conv2D)        (None, 112, 112, 128)     73856     \n",
      "_________________________________________________________________\n",
      "block2_conv2 (Conv2D)        (None, 112, 112, 128)     147584    \n",
      "_________________________________________________________________\n",
      "block2_pool (MaxPooling2D)   (None, 56, 56, 128)       0         \n",
      "_________________________________________________________________\n",
      "block3_conv1 (Conv2D)        (None, 56, 56, 256)       295168    \n",
      "_________________________________________________________________\n",
      "block3_conv2 (Conv2D)        (None, 56, 56, 256)       590080    \n",
      "_________________________________________________________________\n",
      "block3_conv3 (Conv2D)        (None, 56, 56, 256)       590080    \n",
      "_________________________________________________________________\n",
      "block3_pool (MaxPooling2D)   (None, 28, 28, 256)       0         \n",
      "_________________________________________________________________\n",
      "block4_conv1 (Conv2D)        (None, 28, 28, 512)       1180160   \n",
      "_________________________________________________________________\n",
      "block4_conv2 (Conv2D)        (None, 28, 28, 512)       2359808   \n",
      "_________________________________________________________________\n",
      "block4_conv3 (Conv2D)        (None, 28, 28, 512)       2359808   \n",
      "_________________________________________________________________\n",
      "block4_pool (MaxPooling2D)   (None, 14, 14, 512)       0         \n",
      "_________________________________________________________________\n",
      "block5_conv1 (Conv2D)        (None, 14, 14, 512)       2359808   \n",
      "_________________________________________________________________\n",
      "block5_conv2 (Conv2D)        (None, 14, 14, 512)       2359808   \n",
      "_________________________________________________________________\n",
      "block5_conv3 (Conv2D)        (None, 14, 14, 512)       2359808   \n",
      "_________________________________________________________________\n",
      "block5_pool (MaxPooling2D)   (None, 7, 7, 512)         0         \n",
      "_________________________________________________________________\n",
      "flatten_1 (Flatten)          (None, 25088)             0         \n",
      "_________________________________________________________________\n",
      "dense_1 (Dense)              (None, 2)                 50178     \n",
      "=================================================================\n",
      "Total params: 14,764,866\n",
      "Trainable params: 50,178\n",
      "Non-trainable params: 14,714,688\n",
      "_________________________________________________________________\n"
     ]
    }
   ],
   "source": [
    "model.summary()\n"
   ]
  },
  {
   "cell_type": "code",
   "execution_count": 22,
   "metadata": {
    "id": "4JUbXA-h5AeK"
   },
   "outputs": [],
   "source": [
    "model.compile(\n",
    "  loss='categorical_crossentropy',\n",
    "  optimizer='adam',\n",
    "  metrics=['accuracy']\n",
    ")\n"
   ]
  },
  {
   "cell_type": "code",
   "execution_count": 23,
   "metadata": {
    "id": "tU7bNsDs5AeM"
   },
   "outputs": [],
   "source": [
    "from tensorflow.keras.preprocessing.image import ImageDataGenerator\n",
    "\n",
    "train_datagen = ImageDataGenerator(rescale = 1./255,\n",
    "                                   shear_range = 0.2,\n",
    "                                   zoom_range = 0.2,\n",
    "                                   horizontal_flip = True)\n",
    "\n",
    "test_datagen = ImageDataGenerator(rescale = 1./255)"
   ]
  },
  {
   "cell_type": "code",
   "execution_count": 27,
   "metadata": {
    "id": "H3qS72hB5AeQ",
    "outputId": "b932ac67-bc73-40b4-c228-bbd9cb339f6b"
   },
   "outputs": [
    {
     "name": "stdout",
     "output_type": "stream",
     "text": [
      "Found 2448 images belonging to 2 classes.\n"
     ]
    }
   ],
   "source": [
    "training_set = train_datagen.flow_from_directory('H:/Datasets/CNN BASED/kagglecatsanddogs_3367a/train',\n",
    "                                                 target_size = (224, 224),\n",
    "                                                 batch_size = 32,\n",
    "                                                 class_mode = 'categorical')"
   ]
  },
  {
   "cell_type": "code",
   "execution_count": 28,
   "metadata": {
    "id": "y1ccvbiT5AeT",
    "outputId": "4483566a-32b1-4c25-98a4-b34e13b833e2"
   },
   "outputs": [
    {
     "name": "stdout",
     "output_type": "stream",
     "text": [
      "Found 442 images belonging to 2 classes.\n"
     ]
    }
   ],
   "source": [
    "test_set = test_datagen.flow_from_directory('H:/Datasets/CNN BASED/kagglecatsanddogs_3367a/test',\n",
    "                                            target_size = (224, 224),\n",
    "                                            batch_size = 30,\n",
    "                                            class_mode = 'categorical')"
   ]
  },
  {
   "cell_type": "code",
   "execution_count": 29,
   "metadata": {
    "id": "D4IkE_2E5AeV",
    "outputId": "af2bf066-8ed3-4868-bdfe-fc327f397619"
   },
   "outputs": [
    {
     "name": "stderr",
     "output_type": "stream",
     "text": [
      "C:\\Users\\VISERION\\.conda\\envs\\standard\\lib\\site-packages\\tensorflow\\python\\keras\\engine\\training.py:1940: UserWarning: `Model.fit_generator` is deprecated and will be removed in a future version. Please use `Model.fit`, which supports generators.\n",
      "  warnings.warn('`Model.fit_generator` is deprecated and '\n"
     ]
    },
    {
     "name": "stdout",
     "output_type": "stream",
     "text": [
      "Epoch 1/10\n",
      "WARNING:tensorflow:AutoGraph could not transform <function Model.make_train_function.<locals>.train_function at 0x0000018E372A58C8> and will run it as-is.\n",
      "Please report this to the TensorFlow team. When filing the bug, set the verbosity to 10 (on Linux, `export AUTOGRAPH_VERBOSITY=10`) and attach the full output.\n",
      "Cause: 'arguments' object has no attribute 'posonlyargs'\n",
      "To silence this warning, decorate the function with @tf.autograph.experimental.do_not_convert\n",
      "WARNING: AutoGraph could not transform <function Model.make_train_function.<locals>.train_function at 0x0000018E372A58C8> and will run it as-is.\n",
      "Please report this to the TensorFlow team. When filing the bug, set the verbosity to 10 (on Linux, `export AUTOGRAPH_VERBOSITY=10`) and attach the full output.\n",
      "Cause: 'arguments' object has no attribute 'posonlyargs'\n",
      "To silence this warning, decorate the function with @tf.autograph.experimental.do_not_convert\n",
      "77/77 [==============================] - ETA: 0s - loss: 0.3908 - accuracy: 0.8350WARNING:tensorflow:AutoGraph could not transform <function Model.make_test_function.<locals>.test_function at 0x0000018E42E60D90> and will run it as-is.\n",
      "Please report this to the TensorFlow team. When filing the bug, set the verbosity to 10 (on Linux, `export AUTOGRAPH_VERBOSITY=10`) and attach the full output.\n",
      "Cause: 'arguments' object has no attribute 'posonlyargs'\n",
      "To silence this warning, decorate the function with @tf.autograph.experimental.do_not_convert\n",
      "WARNING: AutoGraph could not transform <function Model.make_test_function.<locals>.test_function at 0x0000018E42E60D90> and will run it as-is.\n",
      "Please report this to the TensorFlow team. When filing the bug, set the verbosity to 10 (on Linux, `export AUTOGRAPH_VERBOSITY=10`) and attach the full output.\n",
      "Cause: 'arguments' object has no attribute 'posonlyargs'\n",
      "To silence this warning, decorate the function with @tf.autograph.experimental.do_not_convert\n",
      "77/77 [==============================] - 452s 6s/step - loss: 0.3908 - accuracy: 0.8350 - val_loss: 0.2114 - val_accuracy: 0.9005\n",
      "Epoch 2/10\n",
      "77/77 [==============================] - 538s 7s/step - loss: 0.2398 - accuracy: 0.9020 - val_loss: 0.2996 - val_accuracy: 0.8756\n",
      "Epoch 3/10\n",
      "77/77 [==============================] - 592s 8s/step - loss: 0.1779 - accuracy: 0.9293 - val_loss: 0.1706 - val_accuracy: 0.9367\n",
      "Epoch 4/10\n",
      "77/77 [==============================] - 976s 13s/step - loss: 0.1300 - accuracy: 0.9514 - val_loss: 0.1700 - val_accuracy: 0.9367\n",
      "Epoch 5/10\n",
      "77/77 [==============================] - 976s 13s/step - loss: 0.1186 - accuracy: 0.9526 - val_loss: 0.1903 - val_accuracy: 0.9299\n",
      "Epoch 6/10\n",
      "77/77 [==============================] - 1909s 25s/step - loss: 0.1008 - accuracy: 0.9636 - val_loss: 0.1598 - val_accuracy: 0.9253\n",
      "Epoch 7/10\n",
      "77/77 [==============================] - 754s 10s/step - loss: 0.0905 - accuracy: 0.9653 - val_loss: 0.1708 - val_accuracy: 0.9253\n",
      "Epoch 8/10\n",
      "77/77 [==============================] - 408s 5s/step - loss: 0.1005 - accuracy: 0.9628 - val_loss: 0.2530 - val_accuracy: 0.9095\n",
      "Epoch 9/10\n",
      "77/77 [==============================] - 427s 6s/step - loss: 0.0825 - accuracy: 0.9677 - val_loss: 0.1680 - val_accuracy: 0.9321\n",
      "Epoch 10/10\n",
      "77/77 [==============================] - 446s 6s/step - loss: 0.0780 - accuracy: 0.9730 - val_loss: 0.1657 - val_accuracy: 0.9276\n"
     ]
    }
   ],
   "source": [
    "r = model.fit_generator(\n",
    "  training_set,\n",
    "  validation_data=test_set,\n",
    "  epochs=10,\n",
    "  steps_per_epoch=len(training_set),\n",
    "  validation_steps=len(test_set)\n",
    ")"
   ]
  },
  {
   "cell_type": "code",
   "execution_count": 30,
   "metadata": {
    "id": "E_qvMkbv5AeZ",
    "outputId": "aa4144bf-98f6-41d6-e31e-f44450c545fa"
   },
   "outputs": [
    {
     "data": {
      "image/png": "[encoded data removed]",
      "text/plain": [
       "<Figure size 432x288 with 1 Axes>"
      ]
     },
     "metadata": {
      "needs_background": "light"
     },
     "output_type": "display_data"
    },
    {
     "data": {
      "image/png": "[encoded data removed]",
      "text/plain": [
       "<Figure size 432x288 with 1 Axes>"
      ]
     },
     "metadata": {
      "needs_background": "light"
     },
     "output_type": "display_data"
    },
    {
     "data": {
      "text/plain": [
       "<Figure size 432x288 with 0 Axes>"
      ]
     },
     "metadata": {},
     "output_type": "display_data"
    }
   ],
   "source": [
    "import matplotlib.pyplot as plt\n",
    "plt.plot(r.history['loss'], label='train loss')\n",
    "plt.plot(r.history['val_loss'], label='val loss')\n",
    "plt.legend()\n",
    "plt.show()\n",
    "plt.savefig('LossVal_loss')\n",
    "\n",
    "# plot the accuracy\n",
    "plt.plot(r.history['accuracy'], label='train acc')\n",
    "plt.plot(r.history['val_accuracy'], label='val acc')\n",
    "plt.legend()\n",
    "plt.show()\n",
    "plt.savefig('AccVal_acc')"
   ]
  },
  {
   "cell_type": "code",
   "execution_count": 31,
   "metadata": {
    "id": "hqoGBYdv5Aec"
   },
   "outputs": [],
   "source": [
    "from tensorflow.keras.models import load_model\n",
    "\n",
    "model.save('catsdogs_vgg16.h5')"
   ]
  },
  {
   "cell_type": "code",
   "execution_count": null,
   "metadata": {
    "id": "8PAMIAdy5Aee"
   },
   "outputs": [],
   "source": []
  },
  {
   "cell_type": "code",
   "execution_count": 32,
   "metadata": {
    "id": "gcD6g2FF5Aeg"
   },
   "outputs": [
    {
     "name": "stdout",
     "output_type": "stream",
     "text": [
      "WARNING:tensorflow:AutoGraph could not transform <function Model.make_predict_function.<locals>.predict_function at 0x0000018E44962E18> and will run it as-is.\n",
      "Please report this to the TensorFlow team. When filing the bug, set the verbosity to 10 (on Linux, `export AUTOGRAPH_VERBOSITY=10`) and attach the full output.\n",
      "Cause: 'arguments' object has no attribute 'posonlyargs'\n",
      "To silence this warning, decorate the function with @tf.autograph.experimental.do_not_convert\n",
      "WARNING: AutoGraph could not transform <function Model.make_predict_function.<locals>.predict_function at 0x0000018E44962E18> and will run it as-is.\n",
      "Please report this to the TensorFlow team. When filing the bug, set the verbosity to 10 (on Linux, `export AUTOGRAPH_VERBOSITY=10`) and attach the full output.\n",
      "Cause: 'arguments' object has no attribute 'posonlyargs'\n",
      "To silence this warning, decorate the function with @tf.autograph.experimental.do_not_convert\n"
     ]
    }
   ],
   "source": [
    "\n",
    "y_pred = model.predict(test_set)\n"
   ]
  },
  {
   "cell_type": "code",
   "execution_count": 33,
   "metadata": {
    "id": "_lx6v71a5Aeh"
   },
   "outputs": [
    {
     "data": {
      "text/plain": [
       "array([[5.97763240e-01, 4.02236760e-01],\n",
       "       [7.15080053e-02, 9.28492010e-01],\n",
       "       [5.68949967e-04, 9.99431074e-01],\n",
       "       [1.87767118e-01, 8.12232912e-01],\n",
       "       [9.99574363e-01, 4.25636012e-04],\n",
       "       [8.11671197e-01, 1.88328788e-01],\n",
       "       [2.22983072e-05, 9.99977708e-01],\n",
       "       [1.00605735e-04, 9.99899387e-01],\n",
       "       [3.27358842e-01, 6.72641158e-01],\n",
       "       [9.99857068e-01, 1.42855410e-04],\n",
       "       [8.87582600e-01, 1.12417430e-01],\n",
       "       [9.83261645e-01, 1.67383775e-02],\n",
       "       [5.73965553e-06, 9.99994278e-01],\n",
       "       [9.99994755e-01, 5.26671465e-06],\n",
       "       [9.99889255e-01, 1.10783985e-04],\n",
       "       [1.30694048e-07, 9.99999881e-01],\n",
       "       [9.99969006e-01, 3.09406241e-05],\n",
       "       [9.11921915e-03, 9.90880728e-01],\n",
       "       [9.27766621e-01, 7.22333118e-02],\n",
       "       [9.90943611e-01, 9.05642845e-03],\n",
       "       [6.12497590e-02, 9.38750207e-01],\n",
       "       [9.97684598e-01, 2.31534080e-03],\n",
       "       [9.57036734e-01, 4.29632328e-02],\n",
       "       [1.00000000e+00, 2.40734508e-08],\n",
       "       [5.53697906e-03, 9.94463027e-01],\n",
       "       [8.95346049e-04, 9.99104679e-01],\n",
       "       [1.38869640e-04, 9.99861121e-01],\n",
       "       [1.35038502e-03, 9.98649657e-01],\n",
       "       [9.99995708e-01, 4.33407104e-06],\n",
       "       [1.00000000e+00, 1.00119013e-09],\n",
       "       [9.83585000e-01, 1.64149851e-02],\n",
       "       [9.82673049e-01, 1.73269566e-02],\n",
       "       [9.99969959e-01, 3.00341617e-05],\n",
       "       [4.07202303e-01, 5.92797697e-01],\n",
       "       [9.98956203e-01, 1.04379805e-03],\n",
       "       [3.03367677e-04, 9.99696612e-01],\n",
       "       [1.50349274e-01, 8.49650681e-01],\n",
       "       [9.99430001e-01, 5.69949974e-04],\n",
       "       [9.99981880e-01, 1.81484666e-05],\n",
       "       [1.01302890e-03, 9.98986900e-01],\n",
       "       [9.93312538e-01, 6.68743253e-03],\n",
       "       [3.21450672e-04, 9.99678612e-01],\n",
       "       [9.99925494e-01, 7.45093930e-05],\n",
       "       [1.58521533e-02, 9.84147906e-01],\n",
       "       [9.99998212e-01, 1.77791992e-06],\n",
       "       [9.99956846e-01, 4.31714034e-05],\n",
       "       [9.94298398e-01, 5.70158055e-03],\n",
       "       [3.30581069e-02, 9.66941953e-01],\n",
       "       [1.00000000e+00, 2.48246357e-09],\n",
       "       [2.10618455e-05, 9.99978900e-01],\n",
       "       [9.99999523e-01, 4.93965558e-07],\n",
       "       [2.70998095e-13, 1.00000000e+00],\n",
       "       [7.37678818e-03, 9.92623210e-01],\n",
       "       [2.27480642e-02, 9.77251887e-01],\n",
       "       [2.33915245e-07, 9.99999762e-01],\n",
       "       [8.98050785e-01, 1.01949155e-01],\n",
       "       [9.99908209e-01, 9.17674042e-05],\n",
       "       [2.34593198e-01, 7.65406787e-01],\n",
       "       [7.45077102e-07, 9.99999285e-01],\n",
       "       [9.99996185e-01, 3.86559486e-06],\n",
       "       [9.93830025e-01, 6.16998924e-03],\n",
       "       [1.19259083e-08, 1.00000000e+00],\n",
       "       [8.52043595e-05, 9.99914765e-01],\n",
       "       [9.99996781e-01, 3.23845370e-06],\n",
       "       [9.20034409e-01, 7.99656138e-02],\n",
       "       [1.90868542e-01, 8.09131444e-01],\n",
       "       [9.69227731e-01, 3.07722483e-02],\n",
       "       [1.60410907e-03, 9.98395860e-01],\n",
       "       [9.99999523e-01, 4.82897121e-07],\n",
       "       [4.40221939e-08, 1.00000000e+00],\n",
       "       [8.00870836e-01, 1.99129134e-01],\n",
       "       [5.89389412e-04, 9.99410629e-01],\n",
       "       [9.02168274e-01, 9.78317037e-02],\n",
       "       [2.17222740e-04, 9.99782741e-01],\n",
       "       [3.22917004e-09, 1.00000000e+00],\n",
       "       [3.59691411e-01, 6.40308619e-01],\n",
       "       [9.55527946e-02, 9.04447258e-01],\n",
       "       [9.13559930e-08, 9.99999881e-01],\n",
       "       [8.39316379e-03, 9.91606832e-01],\n",
       "       [8.65035877e-03, 9.91349578e-01],\n",
       "       [1.00000000e+00, 4.64380285e-08],\n",
       "       [9.99983907e-01, 1.61464777e-05],\n",
       "       [5.48757473e-03, 9.94512439e-01],\n",
       "       [9.97807920e-01, 2.19203928e-03],\n",
       "       [9.99605000e-01, 3.95009207e-04],\n",
       "       [9.99997020e-01, 2.97962242e-06],\n",
       "       [1.09207476e-05, 9.99989033e-01],\n",
       "       [7.47713625e-01, 2.52286434e-01],\n",
       "       [4.84590608e-08, 1.00000000e+00],\n",
       "       [9.23065424e-01, 7.69346431e-02],\n",
       "       [9.93456542e-01, 6.54342957e-03],\n",
       "       [8.70909116e-06, 9.99991298e-01],\n",
       "       [4.97451256e-05, 9.99950290e-01],\n",
       "       [3.67505436e-07, 9.99999642e-01],\n",
       "       [1.32832110e-01, 8.67167830e-01],\n",
       "       [4.28691646e-06, 9.99995708e-01],\n",
       "       [2.17424173e-07, 9.99999762e-01],\n",
       "       [1.35625214e-06, 9.99998689e-01],\n",
       "       [6.08879291e-02, 9.39112067e-01],\n",
       "       [5.48766165e-13, 1.00000000e+00],\n",
       "       [8.09624512e-03, 9.91903722e-01],\n",
       "       [3.21612367e-03, 9.96783853e-01],\n",
       "       [9.99999762e-01, 2.82016316e-07],\n",
       "       [4.74815373e-04, 9.99525189e-01],\n",
       "       [6.97444477e-07, 9.99999285e-01],\n",
       "       [1.28613077e-02, 9.87138689e-01],\n",
       "       [1.00000000e+00, 4.15530081e-08],\n",
       "       [6.31458044e-01, 3.68541926e-01],\n",
       "       [2.57779666e-05, 9.99974251e-01],\n",
       "       [2.24799401e-10, 1.00000000e+00],\n",
       "       [3.89187198e-06, 9.99996066e-01],\n",
       "       [9.95339394e-01, 4.66055702e-03],\n",
       "       [9.99927402e-01, 7.26153230e-05],\n",
       "       [1.16610152e-10, 1.00000000e+00],\n",
       "       [2.02139248e-08, 1.00000000e+00],\n",
       "       [6.56892452e-09, 1.00000000e+00],\n",
       "       [2.84827252e-06, 9.99997139e-01],\n",
       "       [9.12113667e-01, 8.78863782e-02],\n",
       "       [8.31320137e-02, 9.16868031e-01],\n",
       "       [9.99998808e-01, 1.15528144e-06],\n",
       "       [5.40871588e-05, 9.99945879e-01],\n",
       "       [2.81767130e-01, 7.18232870e-01],\n",
       "       [8.62322981e-04, 9.99137640e-01],\n",
       "       [9.96591806e-01, 3.40816472e-03],\n",
       "       [9.31638598e-01, 6.83613867e-02],\n",
       "       [9.95567381e-01, 4.43260325e-03],\n",
       "       [9.99987602e-01, 1.23605978e-05],\n",
       "       [9.88972843e-01, 1.10271247e-02],\n",
       "       [3.67348075e-01, 6.32651925e-01],\n",
       "       [7.58801460e-01, 2.41198495e-01],\n",
       "       [9.99943137e-01, 5.68360010e-05],\n",
       "       [1.61051491e-06, 9.99998331e-01],\n",
       "       [2.31645590e-05, 9.99976873e-01],\n",
       "       [9.85680580e-01, 1.43194068e-02],\n",
       "       [1.49178843e-03, 9.98508155e-01],\n",
       "       [9.98087049e-01, 1.91303564e-03],\n",
       "       [7.12803006e-01, 2.87196994e-01],\n",
       "       [9.99999881e-01, 9.02233239e-08],\n",
       "       [7.15960488e-02, 9.28403974e-01],\n",
       "       [9.99990463e-01, 9.56706390e-06],\n",
       "       [9.50595319e-01, 4.94046994e-02],\n",
       "       [9.99962687e-01, 3.73414332e-05],\n",
       "       [7.33924568e-01, 2.66075432e-01],\n",
       "       [9.14027274e-01, 8.59727040e-02],\n",
       "       [4.07140732e-07, 9.99999642e-01],\n",
       "       [9.98253644e-01, 1.74636045e-03],\n",
       "       [9.70313549e-01, 2.96865012e-02],\n",
       "       [9.12452579e-01, 8.75474885e-02],\n",
       "       [1.00699554e-05, 9.99989986e-01],\n",
       "       [9.99962330e-01, 3.77117140e-05],\n",
       "       [9.89885688e-01, 1.01143103e-02],\n",
       "       [2.18505800e-01, 7.81494200e-01],\n",
       "       [5.18707931e-03, 9.94812965e-01],\n",
       "       [3.69593538e-02, 9.63040650e-01],\n",
       "       [3.87426466e-04, 9.99612629e-01],\n",
       "       [9.99987125e-01, 1.28417223e-05],\n",
       "       [3.34156561e-04, 9.99665856e-01],\n",
       "       [9.74374890e-01, 2.56250538e-02],\n",
       "       [9.99995589e-01, 4.44671559e-06],\n",
       "       [5.43870206e-04, 9.99456108e-01],\n",
       "       [9.99998927e-01, 1.02988122e-06],\n",
       "       [1.02899357e-05, 9.99989748e-01],\n",
       "       [5.30375077e-09, 1.00000000e+00],\n",
       "       [9.99923110e-01, 7.68650134e-05],\n",
       "       [9.79511023e-01, 2.04889476e-02],\n",
       "       [7.49283552e-01, 2.50716418e-01],\n",
       "       [9.79559302e-01, 2.04407144e-02],\n",
       "       [9.96844769e-01, 3.15526617e-03],\n",
       "       [9.96002853e-01, 3.99715407e-03],\n",
       "       [8.78301382e-01, 1.21698618e-01],\n",
       "       [9.99999046e-01, 9.61530873e-07],\n",
       "       [7.64890611e-01, 2.35109374e-01],\n",
       "       [1.93724540e-04, 9.99806345e-01],\n",
       "       [4.95626824e-03, 9.95043755e-01],\n",
       "       [5.74181671e-04, 9.99425888e-01],\n",
       "       [9.82918501e-01, 1.70814265e-02],\n",
       "       [9.00954127e-01, 9.90459025e-02],\n",
       "       [3.76009047e-01, 6.23991013e-01],\n",
       "       [1.77268361e-04, 9.99822795e-01],\n",
       "       [8.89260718e-06, 9.99991059e-01],\n",
       "       [5.17194792e-07, 9.99999523e-01],\n",
       "       [1.42160043e-01, 8.57840002e-01],\n",
       "       [1.66697502e-02, 9.83330190e-01],\n",
       "       [1.03657432e-01, 8.96342516e-01],\n",
       "       [9.76244032e-01, 2.37560160e-02],\n",
       "       [9.99729931e-01, 2.70083605e-04],\n",
       "       [4.23221252e-07, 9.99999523e-01],\n",
       "       [1.43045634e-01, 8.56954336e-01],\n",
       "       [8.34843237e-03, 9.91651595e-01],\n",
       "       [7.97885537e-01, 2.02114478e-01],\n",
       "       [1.32460656e-04, 9.99867558e-01],\n",
       "       [1.08605725e-07, 9.99999881e-01],\n",
       "       [2.88624108e-01, 7.11375892e-01],\n",
       "       [9.97736957e-03, 9.90022600e-01],\n",
       "       [8.94713342e-01, 1.05286628e-01],\n",
       "       [9.84339476e-01, 1.56604648e-02],\n",
       "       [6.50244534e-01, 3.49755466e-01],\n",
       "       [2.36951951e-02, 9.76304770e-01],\n",
       "       [2.09492646e-05, 9.99979019e-01],\n",
       "       [9.99989033e-01, 1.09875436e-05],\n",
       "       [9.99176085e-01, 8.23935959e-04],\n",
       "       [9.75888193e-01, 2.41118651e-02],\n",
       "       [1.19708322e-01, 8.80291641e-01],\n",
       "       [9.90827262e-01, 9.17273853e-03],\n",
       "       [2.36604354e-08, 1.00000000e+00],\n",
       "       [9.42783356e-01, 5.72166592e-02],\n",
       "       [1.36612277e-09, 1.00000000e+00],\n",
       "       [8.61930758e-08, 9.99999881e-01],\n",
       "       [8.16874653e-02, 9.18312550e-01],\n",
       "       [9.99494314e-01, 5.05715376e-04],\n",
       "       [2.55903951e-03, 9.97440934e-01],\n",
       "       [9.96042609e-01, 3.95744061e-03],\n",
       "       [9.99446571e-01, 5.53405145e-04],\n",
       "       [2.85919214e-07, 9.99999762e-01],\n",
       "       [8.30569863e-03, 9.91694272e-01],\n",
       "       [2.88959491e-05, 9.99971151e-01],\n",
       "       [1.15481227e-04, 9.99884486e-01],\n",
       "       [9.99999881e-01, 1.46298106e-07],\n",
       "       [9.98448014e-01, 1.55199482e-03],\n",
       "       [2.53707390e-06, 9.99997497e-01],\n",
       "       [1.14040665e-01, 8.85959387e-01],\n",
       "       [9.93793845e-01, 6.20614272e-03],\n",
       "       [3.07356430e-07, 9.99999642e-01],\n",
       "       [1.14506122e-07, 9.99999881e-01],\n",
       "       [5.71632370e-07, 9.99999404e-01],\n",
       "       [1.84208332e-07, 9.99999762e-01],\n",
       "       [9.19419706e-01, 8.05803016e-02],\n",
       "       [1.17841447e-02, 9.88215923e-01],\n",
       "       [3.87053820e-04, 9.99612987e-01],\n",
       "       [1.08714506e-03, 9.98912811e-01],\n",
       "       [9.89769578e-01, 1.02304751e-02],\n",
       "       [9.86575425e-01, 1.34246172e-02],\n",
       "       [8.18726122e-01, 1.81273878e-01],\n",
       "       [1.74944471e-05, 9.99982476e-01],\n",
       "       [9.99958992e-01, 4.10155371e-05],\n",
       "       [2.77979430e-02, 9.72202122e-01],\n",
       "       [9.99949455e-01, 5.04923264e-05],\n",
       "       [1.79302192e-03, 9.98206973e-01],\n",
       "       [4.48680240e-08, 1.00000000e+00],\n",
       "       [8.13412108e-03, 9.91865814e-01],\n",
       "       [1.48592778e-06, 9.99998569e-01],\n",
       "       [4.04119678e-03, 9.95958745e-01],\n",
       "       [2.38155737e-03, 9.97618377e-01],\n",
       "       [4.28495556e-02, 9.57150400e-01],\n",
       "       [9.99999404e-01, 5.44152840e-07],\n",
       "       [8.10738504e-02, 9.18926120e-01],\n",
       "       [9.98874128e-01, 1.12586480e-03],\n",
       "       [9.99838591e-01, 1.61365984e-04],\n",
       "       [4.30698782e-01, 5.69301248e-01],\n",
       "       [9.72119629e-01, 2.78803408e-02],\n",
       "       [4.76801366e-01, 5.23198724e-01],\n",
       "       [9.99999642e-01, 3.34990148e-07],\n",
       "       [2.96611488e-02, 9.70338821e-01],\n",
       "       [9.24187552e-05, 9.99907613e-01],\n",
       "       [2.32463726e-03, 9.97675359e-01],\n",
       "       [9.99957800e-01, 4.21848927e-05],\n",
       "       [1.11681338e-07, 9.99999881e-01],\n",
       "       [2.09174668e-14, 1.00000000e+00],\n",
       "       [1.45752053e-03, 9.98542547e-01],\n",
       "       [9.99965668e-01, 3.43537613e-05],\n",
       "       [9.98242378e-01, 1.75757683e-03],\n",
       "       [1.96329376e-04, 9.99803722e-01],\n",
       "       [5.27063804e-03, 9.94729340e-01],\n",
       "       [1.04806874e-08, 1.00000000e+00],\n",
       "       [1.13513735e-04, 9.99886513e-01],\n",
       "       [2.64423853e-03, 9.97355819e-01],\n",
       "       [1.28496264e-04, 9.99871492e-01],\n",
       "       [3.66790056e-01, 6.33209944e-01],\n",
       "       [3.26413274e-09, 1.00000000e+00],\n",
       "       [9.99981523e-01, 1.85273857e-05],\n",
       "       [6.18800033e-09, 1.00000000e+00],\n",
       "       [2.64219311e-03, 9.97357786e-01],\n",
       "       [2.83012033e-01, 7.16987908e-01],\n",
       "       [9.62868333e-01, 3.71316895e-02],\n",
       "       [1.00000000e+00, 2.35592812e-09],\n",
       "       [9.99974370e-01, 2.56627573e-05],\n",
       "       [9.99999285e-01, 7.29436465e-07],\n",
       "       [9.90316093e-01, 9.68393125e-03],\n",
       "       [9.97823477e-01, 2.17651692e-03],\n",
       "       [9.90769088e-01, 9.23089683e-03],\n",
       "       [9.03934181e-01, 9.60657671e-02],\n",
       "       [8.73298291e-07, 9.99999166e-01],\n",
       "       [9.99997616e-01, 2.34985191e-06],\n",
       "       [1.00000000e+00, 5.11875342e-09],\n",
       "       [7.53671259e-09, 1.00000000e+00],\n",
       "       [9.99985933e-01, 1.40719867e-05],\n",
       "       [4.39405262e-01, 5.60594738e-01],\n",
       "       [9.99884009e-01, 1.15946641e-04],\n",
       "       [9.99988317e-01, 1.17386789e-05],\n",
       "       [9.99718010e-01, 2.82013119e-04],\n",
       "       [1.05029001e-04, 9.99894977e-01],\n",
       "       [1.31043316e-05, 9.99986887e-01],\n",
       "       [9.99641657e-01, 3.58361838e-04],\n",
       "       [9.94986653e-01, 5.01336157e-03],\n",
       "       [2.87752580e-02, 9.71224725e-01],\n",
       "       [3.80094480e-06, 9.99996185e-01],\n",
       "       [1.74741843e-04, 9.99825299e-01],\n",
       "       [3.97318473e-07, 9.99999642e-01],\n",
       "       [1.00000000e+00, 2.69977013e-10],\n",
       "       [7.36728311e-03, 9.92632687e-01],\n",
       "       [6.36120319e-01, 3.63879621e-01],\n",
       "       [3.24553093e-06, 9.99996781e-01],\n",
       "       [1.34274922e-03, 9.98657227e-01],\n",
       "       [9.99997258e-01, 2.75483922e-06],\n",
       "       [9.84892368e-01, 1.51076522e-02],\n",
       "       [2.58288292e-05, 9.99974132e-01],\n",
       "       [9.96472001e-01, 3.52806412e-03],\n",
       "       [9.99200881e-01, 7.99177331e-04],\n",
       "       [5.30369163e-01, 4.69630897e-01],\n",
       "       [9.99891877e-01, 1.08122738e-04],\n",
       "       [7.60500019e-09, 1.00000000e+00],\n",
       "       [1.52248321e-02, 9.84775126e-01],\n",
       "       [9.96834099e-01, 3.16595216e-03],\n",
       "       [8.84804409e-04, 9.99115169e-01],\n",
       "       [6.82510217e-05, 9.99931693e-01],\n",
       "       [5.14608610e-06, 9.99994874e-01],\n",
       "       [8.16300104e-04, 9.99183714e-01],\n",
       "       [3.69899138e-03, 9.96300936e-01],\n",
       "       [1.04617635e-02, 9.89538312e-01],\n",
       "       [3.21308357e-06, 9.99996781e-01],\n",
       "       [3.43979151e-11, 1.00000000e+00],\n",
       "       [9.99887466e-01, 1.12513779e-04],\n",
       "       [1.51837303e-04, 9.99848127e-01],\n",
       "       [9.97173071e-01, 2.82690837e-03],\n",
       "       [6.50244534e-01, 3.49755466e-01],\n",
       "       [9.99989748e-01, 1.02429694e-05],\n",
       "       [9.79527533e-01, 2.04725042e-02],\n",
       "       [9.99529839e-01, 4.70202562e-04],\n",
       "       [4.98126474e-06, 9.99994993e-01],\n",
       "       [9.79302585e-01, 2.06974428e-02],\n",
       "       [4.69179213e-05, 9.99953032e-01],\n",
       "       [3.98539722e-01, 6.01460338e-01],\n",
       "       [1.72621167e-05, 9.99982715e-01],\n",
       "       [8.56705308e-01, 1.43294662e-01],\n",
       "       [9.99986768e-01, 1.32529713e-05],\n",
       "       [7.68076628e-02, 9.23192322e-01],\n",
       "       [2.14792680e-12, 1.00000000e+00],\n",
       "       [1.29633895e-08, 1.00000000e+00],\n",
       "       [4.83020949e-06, 9.99995112e-01],\n",
       "       [9.56563234e-01, 4.34368141e-02],\n",
       "       [7.89025128e-01, 2.10974917e-01],\n",
       "       [9.99475300e-01, 5.24776697e-04],\n",
       "       [1.00000000e+00, 5.00283193e-08],\n",
       "       [7.06717742e-08, 9.99999881e-01],\n",
       "       [8.71578038e-01, 1.28422022e-01],\n",
       "       [5.24754338e-02, 9.47524548e-01],\n",
       "       [9.88419447e-03, 9.90115821e-01],\n",
       "       [6.80631018e-08, 9.99999881e-01],\n",
       "       [1.64786456e-04, 9.99835134e-01],\n",
       "       [1.64956455e-05, 9.99983549e-01],\n",
       "       [1.20883072e-07, 9.99999881e-01],\n",
       "       [3.13884811e-08, 1.00000000e+00],\n",
       "       [1.16802084e-05, 9.99988317e-01],\n",
       "       [1.53098911e-09, 1.00000000e+00],\n",
       "       [4.57534902e-02, 9.54246461e-01],\n",
       "       [9.99774754e-01, 2.25233307e-04],\n",
       "       [9.99999881e-01, 9.65953788e-08],\n",
       "       [1.00000000e+00, 2.92887687e-08],\n",
       "       [1.29609914e-08, 1.00000000e+00],\n",
       "       [2.30385222e-09, 1.00000000e+00],\n",
       "       [9.94197607e-01, 5.80242230e-03],\n",
       "       [9.75527975e-04, 9.99024510e-01],\n",
       "       [1.93719757e-06, 9.99998093e-01],\n",
       "       [8.33018124e-01, 1.66981936e-01],\n",
       "       [2.75330327e-04, 9.99724686e-01],\n",
       "       [7.60775976e-08, 9.99999881e-01],\n",
       "       [2.15411870e-04, 9.99784648e-01],\n",
       "       [9.70482752e-02, 9.02951777e-01],\n",
       "       [2.95999870e-02, 9.70399976e-01],\n",
       "       [8.44866804e-07, 9.99999166e-01],\n",
       "       [9.99934793e-01, 6.51625596e-05],\n",
       "       [9.99961734e-01, 3.82212384e-05],\n",
       "       [9.99812663e-01, 1.87415702e-04],\n",
       "       [3.90657783e-02, 9.60934222e-01],\n",
       "       [9.89260435e-01, 1.07396198e-02],\n",
       "       [9.99999762e-01, 2.83652241e-07],\n",
       "       [1.18148940e-07, 9.99999881e-01],\n",
       "       [9.98802304e-01, 1.19770854e-03],\n",
       "       [7.22764235e-15, 1.00000000e+00],\n",
       "       [1.22419616e-10, 1.00000000e+00],\n",
       "       [9.97981250e-01, 2.01881048e-03],\n",
       "       [5.17039597e-01, 4.82960314e-01],\n",
       "       [1.00000000e+00, 4.47874626e-09],\n",
       "       [9.96135116e-01, 3.86489835e-03],\n",
       "       [7.39807456e-06, 9.99992609e-01],\n",
       "       [4.97057527e-01, 5.02942502e-01],\n",
       "       [9.99195755e-01, 8.04233830e-04],\n",
       "       [3.50030884e-02, 9.64996874e-01],\n",
       "       [9.99974370e-01, 2.56310595e-05],\n",
       "       [9.99920368e-01, 7.96477179e-05],\n",
       "       [9.98368561e-01, 1.63148448e-03],\n",
       "       [1.87491923e-06, 9.99998093e-01],\n",
       "       [9.94798064e-01, 5.20185847e-03],\n",
       "       [1.00000000e+00, 6.08062978e-09],\n",
       "       [9.99923110e-01, 7.69003454e-05],\n",
       "       [9.63402331e-01, 3.65976579e-02],\n",
       "       [3.48128699e-04, 9.99651909e-01],\n",
       "       [5.97917335e-03, 9.94020760e-01],\n",
       "       [9.85084713e-01, 1.49152866e-02],\n",
       "       [9.84362841e-01, 1.56371295e-02],\n",
       "       [7.03528047e-01, 2.96471953e-01],\n",
       "       [9.99893785e-01, 1.06216867e-04],\n",
       "       [3.06481021e-11, 1.00000000e+00],\n",
       "       [9.99986649e-01, 1.34027478e-05],\n",
       "       [3.77767682e-02, 9.62223232e-01],\n",
       "       [8.94200623e-01, 1.05799347e-01],\n",
       "       [1.27277700e-02, 9.87272203e-01],\n",
       "       [9.55248325e-08, 9.99999881e-01],\n",
       "       [4.21050042e-01, 5.78949988e-01],\n",
       "       [2.87811607e-01, 7.12188423e-01],\n",
       "       [3.52492690e-01, 6.47507310e-01],\n",
       "       [1.48848370e-01, 8.51151586e-01],\n",
       "       [2.54617480e-04, 9.99745429e-01],\n",
       "       [9.99997735e-01, 2.31291597e-06],\n",
       "       [9.93936479e-01, 6.06351672e-03],\n",
       "       [8.75410974e-01, 1.24589086e-01],\n",
       "       [9.99959588e-01, 4.03560771e-05],\n",
       "       [4.55192549e-07, 9.99999523e-01],\n",
       "       [9.98932421e-01, 1.06752792e-03],\n",
       "       [1.18662409e-01, 8.81337583e-01],\n",
       "       [1.22649808e-05, 9.99987721e-01],\n",
       "       [9.98354435e-01, 1.64560636e-03],\n",
       "       [1.00000000e+00, 1.91594807e-09],\n",
       "       [5.42689289e-04, 9.99457300e-01],\n",
       "       [1.85655348e-03, 9.98143435e-01],\n",
       "       [1.73379267e-05, 9.99982715e-01],\n",
       "       [9.99953508e-01, 4.64646473e-05],\n",
       "       [9.99932051e-01, 6.79860605e-05],\n",
       "       [2.01695337e-04, 9.99798357e-01],\n",
       "       [1.00000000e+00, 3.10761350e-09],\n",
       "       [1.75912902e-02, 9.82408702e-01],\n",
       "       [9.34178889e-01, 6.58210739e-02],\n",
       "       [3.70425850e-01, 6.29574239e-01],\n",
       "       [3.55462160e-13, 1.00000000e+00],\n",
       "       [4.10723984e-02, 9.58927631e-01],\n",
       "       [9.59384203e-01, 4.06157449e-02],\n",
       "       [5.99877385e-04, 9.99400139e-01],\n",
       "       [9.99999881e-01, 1.04510072e-07],\n",
       "       [9.99868035e-01, 1.31925175e-04],\n",
       "       [9.99905825e-01, 9.41448161e-05],\n",
       "       [5.46581403e-04, 9.99453366e-01],\n",
       "       [1.90564170e-02, 9.80943620e-01]], dtype=float32)"
      ]
     },
     "execution_count": 33,
     "metadata": {},
     "output_type": "execute_result"
    }
   ],
   "source": [
    "y_pred"
   ]
  },
  {
   "cell_type": "code",
   "execution_count": 36,
   "metadata": {
    "id": "Kd7PiacB5Aej"
   },
   "outputs": [],
   "source": [
    "import numpy as np\n",
    "y_pred = np.argmax(y_pred,axis=0)"
   ]
  },
  {
   "cell_type": "code",
   "execution_count": 37,
   "metadata": {
    "id": "SbUAOceS5Aek"
   },
   "outputs": [
    {
     "data": {
      "text/plain": [
       "1"
      ]
     },
     "execution_count": 37,
     "metadata": {},
     "output_type": "execute_result"
    }
   ],
   "source": [
    "y_pred"
   ]
  },
  {
   "cell_type": "code",
   "execution_count": null,
   "metadata": {
    "id": "MIp6Anb-5Ael"
   },
   "outputs": [],
   "source": []
  },
  {
   "cell_type": "code",
   "execution_count": null,
   "metadata": {
    "id": "uN1wYCce5Ae1"
   },
   "outputs": [],
   "source": []
  }
 ],
 "metadata": {
  "colab": {
   "name": "Transfer Learning VGG16.ipynb",
   "provenance": []
  },
  "kernelspec": {
   "display_name": "Python 3",
   "language": "python",
   "name": "python3"
  },
  "language_info": {
   "codemirror_mode": {
    "name": "ipython",
    "version": 3
   },
   "file_extension": ".py",
   "mimetype": "text/x-python",
   "name": "python",
   "nbconvert_exporter": "python",
   "pygments_lexer": "ipython3",
   "version": "3.6.9"
  }
 },
 "nbformat": 4,
 "nbformat_minor": 1
}
